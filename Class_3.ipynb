{
 "cells": [
  {
   "cell_type": "code",
   "execution_count": 1,
   "id": "61c5a40d",
   "metadata": {},
   "outputs": [
    {
     "name": "stdout",
     "output_type": "stream",
     "text": [
      "['Radha']\n"
     ]
    }
   ],
   "source": [
    "employee=[]\n",
    "employee.append('Radha')\n",
    "print(employee)"
   ]
  },
  {
   "cell_type": "code",
   "execution_count": 2,
   "id": "76d9ef98",
   "metadata": {},
   "outputs": [
    {
     "name": "stdout",
     "output_type": "stream",
     "text": [
      "['Radha', 'Ramesh', 'Salman']\n"
     ]
    }
   ],
   "source": [
    "employee.append('Ramesh')\n",
    "employee.append(\"Salman\")\n",
    "print(employee)"
   ]
  },
  {
   "cell_type": "markdown",
   "id": "cc6d7584",
   "metadata": {},
   "source": [
    "# Index and Insert"
   ]
  },
  {
   "cell_type": "code",
   "execution_count": 3,
   "id": "421b50f4",
   "metadata": {},
   "outputs": [],
   "source": [
    "employee=['Radha','Ramesh','Salman']"
   ]
  },
  {
   "cell_type": "code",
   "execution_count": 4,
   "id": "16492b8e",
   "metadata": {},
   "outputs": [
    {
     "data": {
      "text/plain": [
       "['Radha', \"D'Souza\", 'Ramesh', 'Salman']"
      ]
     },
     "execution_count": 4,
     "metadata": {},
     "output_type": "execute_result"
    }
   ],
   "source": [
    "employee.insert(1,\"D'Souza\")\n",
    "employee"
   ]
  },
  {
   "cell_type": "code",
   "execution_count": 5,
   "id": "484072ec",
   "metadata": {},
   "outputs": [
    {
     "data": {
      "text/plain": [
       "[15000, 28000, 10000]"
      ]
     },
     "execution_count": 5,
     "metadata": {},
     "output_type": "execute_result"
    }
   ],
   "source": [
    "emp_salary=[15000,28000,10000]\n",
    "emp_salary"
   ]
  },
  {
   "cell_type": "code",
   "execution_count": 6,
   "id": "9dae7a88",
   "metadata": {},
   "outputs": [
    {
     "data": {
      "text/plain": [
       "[48000, 15000, 28000, 10000]"
      ]
     },
     "execution_count": 6,
     "metadata": {},
     "output_type": "execute_result"
    }
   ],
   "source": [
    "emp_salary.insert(0,48000)\n",
    "emp_salary"
   ]
  },
  {
   "cell_type": "markdown",
   "id": "756372aa",
   "metadata": {},
   "source": [
    "# List Extended Methods"
   ]
  },
  {
   "cell_type": "code",
   "execution_count": 7,
   "id": "a10b9eff",
   "metadata": {},
   "outputs": [
    {
     "data": {
      "text/plain": [
       "['Radha', \"D'Souza\", 'Ramesh', 'Salman']"
      ]
     },
     "execution_count": 7,
     "metadata": {},
     "output_type": "execute_result"
    }
   ],
   "source": [
    "employee"
   ]
  },
  {
   "cell_type": "code",
   "execution_count": 8,
   "id": "697dbdfa",
   "metadata": {},
   "outputs": [
    {
     "data": {
      "text/plain": [
       "4"
      ]
     },
     "execution_count": 8,
     "metadata": {},
     "output_type": "execute_result"
    }
   ],
   "source": [
    "len(employee)"
   ]
  },
  {
   "cell_type": "markdown",
   "id": "02377fd5",
   "metadata": {},
   "source": [
    "# Indexing and Slicing"
   ]
  },
  {
   "cell_type": "code",
   "execution_count": 9,
   "id": "1451ccb2",
   "metadata": {},
   "outputs": [
    {
     "data": {
      "text/plain": [
       "['Radha', \"D'Souza\", 'Ramesh', 'Salman']"
      ]
     },
     "execution_count": 9,
     "metadata": {},
     "output_type": "execute_result"
    }
   ],
   "source": [
    "employee"
   ]
  },
  {
   "cell_type": "code",
   "execution_count": 10,
   "id": "1feb3e4d",
   "metadata": {},
   "outputs": [
    {
     "data": {
      "text/plain": [
       "\"D'Souza\""
      ]
     },
     "execution_count": 10,
     "metadata": {},
     "output_type": "execute_result"
    }
   ],
   "source": [
    "employee[1]"
   ]
  },
  {
   "cell_type": "code",
   "execution_count": 11,
   "id": "a4a31fda",
   "metadata": {},
   "outputs": [
    {
     "data": {
      "text/plain": [
       "'Ramesh'"
      ]
     },
     "execution_count": 11,
     "metadata": {},
     "output_type": "execute_result"
    }
   ],
   "source": [
    "employee[2]"
   ]
  },
  {
   "cell_type": "code",
   "execution_count": 12,
   "id": "fcf8163c",
   "metadata": {},
   "outputs": [
    {
     "data": {
      "text/plain": [
       "'Salman'"
      ]
     },
     "execution_count": 12,
     "metadata": {},
     "output_type": "execute_result"
    }
   ],
   "source": [
    "employee[3]"
   ]
  },
  {
   "cell_type": "code",
   "execution_count": 13,
   "id": "72fc3003",
   "metadata": {},
   "outputs": [
    {
     "data": {
      "text/plain": [
       "'Ramesh'"
      ]
     },
     "execution_count": 13,
     "metadata": {},
     "output_type": "execute_result"
    }
   ],
   "source": [
    "employee[-2]"
   ]
  },
  {
   "cell_type": "code",
   "execution_count": 14,
   "id": "d9833da6",
   "metadata": {},
   "outputs": [
    {
     "data": {
      "text/plain": [
       "'Salman'"
      ]
     },
     "execution_count": 14,
     "metadata": {},
     "output_type": "execute_result"
    }
   ],
   "source": [
    "employee[-1]"
   ]
  },
  {
   "cell_type": "code",
   "execution_count": 15,
   "id": "2e0196c1",
   "metadata": {},
   "outputs": [
    {
     "data": {
      "text/plain": [
       "['Radha', 'Remo', 'Ramesh', 'Salman']"
      ]
     },
     "execution_count": 15,
     "metadata": {},
     "output_type": "execute_result"
    }
   ],
   "source": [
    "employee[1]='Remo'\n",
    "employee"
   ]
  },
  {
   "cell_type": "code",
   "execution_count": 16,
   "id": "7165ded1",
   "metadata": {},
   "outputs": [
    {
     "data": {
      "text/plain": [
       "[48000, 20000, 28000, 10000]"
      ]
     },
     "execution_count": 16,
     "metadata": {},
     "output_type": "execute_result"
    }
   ],
   "source": [
    "emp_salary[1]=20000\n",
    "emp_salary"
   ]
  },
  {
   "cell_type": "code",
   "execution_count": 17,
   "id": "08e52497",
   "metadata": {},
   "outputs": [
    {
     "data": {
      "text/plain": [
       "[20000, 28000, 10000]"
      ]
     },
     "execution_count": 17,
     "metadata": {},
     "output_type": "execute_result"
    }
   ],
   "source": [
    "emp_salary[1:]"
   ]
  },
  {
   "cell_type": "code",
   "execution_count": 18,
   "id": "5e98a87a",
   "metadata": {},
   "outputs": [
    {
     "data": {
      "text/plain": [
       "[48000, 20000, 28000]"
      ]
     },
     "execution_count": 18,
     "metadata": {},
     "output_type": "execute_result"
    }
   ],
   "source": [
    "emp_salary[:3]"
   ]
  },
  {
   "cell_type": "code",
   "execution_count": 19,
   "id": "3050c382",
   "metadata": {},
   "outputs": [
    {
     "data": {
      "text/plain": [
       "[20000, 28000]"
      ]
     },
     "execution_count": 19,
     "metadata": {},
     "output_type": "execute_result"
    }
   ],
   "source": [
    "emp_salary[1:3]"
   ]
  },
  {
   "cell_type": "code",
   "execution_count": 20,
   "id": "d31bfbea",
   "metadata": {},
   "outputs": [
    {
     "data": {
      "text/plain": [
       "[48000, 20000, 28000, 10000, 25000]"
      ]
     },
     "execution_count": 20,
     "metadata": {},
     "output_type": "execute_result"
    }
   ],
   "source": [
    "emp_salary+[25000]"
   ]
  },
  {
   "cell_type": "code",
   "execution_count": 21,
   "id": "b032071c",
   "metadata": {},
   "outputs": [],
   "source": [
    "emp_salary=emp_salary+[25000]"
   ]
  },
  {
   "cell_type": "code",
   "execution_count": 22,
   "id": "4ed851a1",
   "metadata": {},
   "outputs": [
    {
     "data": {
      "text/plain": [
       "[48000, 20000, 28000, 10000, 25000]"
      ]
     },
     "execution_count": 22,
     "metadata": {},
     "output_type": "execute_result"
    }
   ],
   "source": [
    "emp_salary"
   ]
  },
  {
   "cell_type": "code",
   "execution_count": 23,
   "id": "4b20019f",
   "metadata": {},
   "outputs": [
    {
     "data": {
      "text/plain": [
       "[48000, 20000, 28000, 10000, 25000, 48000, 20000, 28000, 10000, 25000]"
      ]
     },
     "execution_count": 23,
     "metadata": {},
     "output_type": "execute_result"
    }
   ],
   "source": [
    "emp_salary*2"
   ]
  },
  {
   "cell_type": "code",
   "execution_count": 24,
   "id": "ce67641c",
   "metadata": {},
   "outputs": [
    {
     "data": {
      "text/plain": [
       "[48000,\n",
       " 20000,\n",
       " 28000,\n",
       " 10000,\n",
       " 25000,\n",
       " 48000,\n",
       " 20000,\n",
       " 28000,\n",
       " 10000,\n",
       " 25000,\n",
       " 48000,\n",
       " 20000,\n",
       " 28000,\n",
       " 10000,\n",
       " 25000]"
      ]
     },
     "execution_count": 24,
     "metadata": {},
     "output_type": "execute_result"
    }
   ],
   "source": [
    "emp_salary*3"
   ]
  },
  {
   "cell_type": "code",
   "execution_count": 25,
   "id": "ff6a3b97",
   "metadata": {},
   "outputs": [
    {
     "name": "stdout",
     "output_type": "stream",
     "text": [
      "==========================================================================================\n",
      "                                             Data Trained                                   \n",
      "******************************************************************************************\n"
     ]
    }
   ],
   "source": [
    "print('=' *90)\n",
    "print('                                             Data Trained                                   ')\n",
    "print('*' *90)"
   ]
  },
  {
   "cell_type": "markdown",
   "id": "dbe03e70",
   "metadata": {},
   "source": [
    "# Advanced Lists"
   ]
  },
  {
   "cell_type": "markdown",
   "id": "f15af714",
   "metadata": {},
   "source": [
    "# Count"
   ]
  },
  {
   "cell_type": "code",
   "execution_count": 26,
   "id": "5ed6c5e5",
   "metadata": {},
   "outputs": [],
   "source": [
    "marks=[25,100,28,49,55,38,100,24,47,55,100,60,74,88,38,100]"
   ]
  },
  {
   "cell_type": "code",
   "execution_count": 27,
   "id": "9e639b54",
   "metadata": {},
   "outputs": [
    {
     "data": {
      "text/plain": [
       "4"
      ]
     },
     "execution_count": 27,
     "metadata": {},
     "output_type": "execute_result"
    }
   ],
   "source": [
    "marks.count(100)"
   ]
  },
  {
   "cell_type": "code",
   "execution_count": 28,
   "id": "e8eb676a",
   "metadata": {},
   "outputs": [
    {
     "data": {
      "text/plain": [
       "1"
      ]
     },
     "execution_count": 28,
     "metadata": {},
     "output_type": "execute_result"
    }
   ],
   "source": [
    "marks.count(60)"
   ]
  },
  {
   "cell_type": "code",
   "execution_count": 29,
   "id": "cf5bb8ec",
   "metadata": {},
   "outputs": [
    {
     "data": {
      "text/plain": [
       "0"
      ]
     },
     "execution_count": 29,
     "metadata": {},
     "output_type": "execute_result"
    }
   ],
   "source": [
    "marks.count(89)"
   ]
  },
  {
   "cell_type": "markdown",
   "id": "b3362409",
   "metadata": {},
   "source": [
    "# Index"
   ]
  },
  {
   "cell_type": "code",
   "execution_count": 30,
   "id": "914b7107",
   "metadata": {},
   "outputs": [
    {
     "data": {
      "text/plain": [
       "[25, 100, 28, 49, 55, 38, 100, 24, 47, 55, 100, 60, 74, 88, 38, 100]"
      ]
     },
     "execution_count": 30,
     "metadata": {},
     "output_type": "execute_result"
    }
   ],
   "source": [
    "marks"
   ]
  },
  {
   "cell_type": "code",
   "execution_count": 31,
   "id": "4148de8b",
   "metadata": {},
   "outputs": [
    {
     "data": {
      "text/plain": [
       "1"
      ]
     },
     "execution_count": 31,
     "metadata": {},
     "output_type": "execute_result"
    }
   ],
   "source": [
    "marks.index(100)"
   ]
  },
  {
   "cell_type": "markdown",
   "id": "1bbc4382",
   "metadata": {},
   "source": [
    "# Extend"
   ]
  },
  {
   "cell_type": "code",
   "execution_count": 32,
   "id": "13cedb69",
   "metadata": {},
   "outputs": [
    {
     "data": {
      "text/plain": [
       "['Radha', 'Remo', 'Ramesh', 'Salman']"
      ]
     },
     "execution_count": 32,
     "metadata": {},
     "output_type": "execute_result"
    }
   ],
   "source": [
    "employee"
   ]
  },
  {
   "cell_type": "code",
   "execution_count": 33,
   "id": "991275d2",
   "metadata": {},
   "outputs": [
    {
     "name": "stdout",
     "output_type": "stream",
     "text": [
      "['Radha', 'Remo', 'Ramesh', 'Salman', ['Anu', 'Sapna']]\n"
     ]
    }
   ],
   "source": [
    "employee.append(['Anu','Sapna'])\n",
    "print(employee)"
   ]
  },
  {
   "cell_type": "code",
   "execution_count": 34,
   "id": "786a17ca",
   "metadata": {},
   "outputs": [
    {
     "name": "stdout",
     "output_type": "stream",
     "text": [
      "['Radha', 'Remo', 'Ramesh', 'Salman', 'Anu', 'Sapna']\n"
     ]
    }
   ],
   "source": [
    "employee=['Radha','Remo','Ramesh','Salman']\n",
    "employee.extend(['Anu','Sapna'])\n",
    "print(employee)"
   ]
  },
  {
   "cell_type": "markdown",
   "id": "4d4558aa",
   "metadata": {},
   "source": [
    "# Pop"
   ]
  },
  {
   "cell_type": "code",
   "execution_count": 35,
   "id": "ea0a7fe8",
   "metadata": {},
   "outputs": [],
   "source": [
    "Students=['Raj','Ram','Abid','Nancy','Fatima']"
   ]
  },
  {
   "cell_type": "code",
   "execution_count": 36,
   "id": "fb0232f9",
   "metadata": {},
   "outputs": [
    {
     "data": {
      "text/plain": [
       "['Raj', 'Ram', 'Abid', 'Nancy', 'Fatima']"
      ]
     },
     "execution_count": 36,
     "metadata": {},
     "output_type": "execute_result"
    }
   ],
   "source": [
    "Students"
   ]
  },
  {
   "cell_type": "markdown",
   "id": "330e427f",
   "metadata": {},
   "source": [
    "pop_last=Students.pop()\n",
    "pop_last"
   ]
  },
  {
   "cell_type": "code",
   "execution_count": 37,
   "id": "eaab3055",
   "metadata": {},
   "outputs": [
    {
     "data": {
      "text/plain": [
       "['Raj', 'Ram', 'Abid', 'Nancy', 'Fatima']"
      ]
     },
     "execution_count": 37,
     "metadata": {},
     "output_type": "execute_result"
    }
   ],
   "source": [
    "Students"
   ]
  },
  {
   "cell_type": "code",
   "execution_count": 38,
   "id": "9df2c723",
   "metadata": {},
   "outputs": [],
   "source": [
    "Students=['Raj','Ram','Abid','Nancy','Fatima']"
   ]
  },
  {
   "cell_type": "code",
   "execution_count": 39,
   "id": "3fa0b73a",
   "metadata": {},
   "outputs": [
    {
     "data": {
      "text/plain": [
       "'Ram'"
      ]
     },
     "execution_count": 39,
     "metadata": {},
     "output_type": "execute_result"
    }
   ],
   "source": [
    "pop_index=Students.pop(1)\n",
    "pop_index"
   ]
  },
  {
   "cell_type": "code",
   "execution_count": 40,
   "id": "04d4ebc3",
   "metadata": {},
   "outputs": [
    {
     "data": {
      "text/plain": [
       "['Raj', 'Abid', 'Nancy', 'Fatima']"
      ]
     },
     "execution_count": 40,
     "metadata": {},
     "output_type": "execute_result"
    }
   ],
   "source": [
    "Students"
   ]
  },
  {
   "cell_type": "markdown",
   "id": "3d68d98b",
   "metadata": {},
   "source": [
    "# remove"
   ]
  },
  {
   "cell_type": "code",
   "execution_count": 41,
   "id": "9caba0f4",
   "metadata": {},
   "outputs": [],
   "source": [
    "roll_number=[100,101,102,103,104,103]"
   ]
  },
  {
   "cell_type": "code",
   "execution_count": 42,
   "id": "29582caa",
   "metadata": {},
   "outputs": [
    {
     "name": "stdout",
     "output_type": "stream",
     "text": [
      "[100, 101, 102, 104, 103]\n"
     ]
    }
   ],
   "source": [
    "roll_number.remove(103)\n",
    "print(roll_number)"
   ]
  },
  {
   "cell_type": "code",
   "execution_count": 43,
   "id": "98a7d442",
   "metadata": {},
   "outputs": [
    {
     "name": "stdout",
     "output_type": "stream",
     "text": [
      "[100, 101, 102, 104]\n"
     ]
    }
   ],
   "source": [
    "roll_number.remove(103)\n",
    "print(roll_number)\n",
    "            "
   ]
  },
  {
   "cell_type": "code",
   "execution_count": 44,
   "id": "402598de",
   "metadata": {},
   "outputs": [
    {
     "ename": "ValueError",
     "evalue": "list.remove(x): x not in list",
     "output_type": "error",
     "traceback": [
      "\u001b[1;31m---------------------------------------------------------------------------\u001b[0m",
      "\u001b[1;31mValueError\u001b[0m                                Traceback (most recent call last)",
      "Input \u001b[1;32mIn [44]\u001b[0m, in \u001b[0;36m<cell line: 1>\u001b[1;34m()\u001b[0m\n\u001b[1;32m----> 1\u001b[0m \u001b[43mroll_number\u001b[49m\u001b[38;5;241;43m.\u001b[39;49m\u001b[43mremove\u001b[49m\u001b[43m(\u001b[49m\u001b[38;5;241;43m103\u001b[39;49m\u001b[43m)\u001b[49m\n\u001b[0;32m      2\u001b[0m \u001b[38;5;28mprint\u001b[39m(roll_number)\n",
      "\u001b[1;31mValueError\u001b[0m: list.remove(x): x not in list"
     ]
    }
   ],
   "source": [
    "roll_number.remove(103)\n",
    "print(roll_number)"
   ]
  },
  {
   "cell_type": "markdown",
   "id": "fa8e08ca",
   "metadata": {},
   "source": [
    "# reverse"
   ]
  },
  {
   "cell_type": "code",
   "execution_count": 64,
   "id": "3bd9946d",
   "metadata": {},
   "outputs": [],
   "source": [
    "list=[1,2,3,4,3]"
   ]
  },
  {
   "cell_type": "code",
   "execution_count": 67,
   "id": "8adea27b",
   "metadata": {},
   "outputs": [],
   "source": [
    "list.reverse()"
   ]
  },
  {
   "cell_type": "code",
   "execution_count": 68,
   "id": "70b4e5ad",
   "metadata": {},
   "outputs": [
    {
     "data": {
      "text/plain": [
       "[1, 2, 3, 4, 3]"
      ]
     },
     "execution_count": 68,
     "metadata": {},
     "output_type": "execute_result"
    }
   ],
   "source": [
    "list"
   ]
  },
  {
   "cell_type": "markdown",
   "id": "25bd8e35",
   "metadata": {},
   "source": [
    "# sort"
   ]
  },
  {
   "cell_type": "code",
   "execution_count": 69,
   "id": "3e8df5de",
   "metadata": {},
   "outputs": [
    {
     "data": {
      "text/plain": [
       "[25, 38, 49, 55, 38, 26, 47, 55, 60, 74, 88, 38]"
      ]
     },
     "execution_count": 69,
     "metadata": {},
     "output_type": "execute_result"
    }
   ],
   "source": [
    "marks=[25,38,49,55,38,26,47,55,60,74,88,38]\n",
    "marks"
   ]
  },
  {
   "cell_type": "code",
   "execution_count": 70,
   "id": "ddbf0558",
   "metadata": {},
   "outputs": [
    {
     "name": "stdout",
     "output_type": "stream",
     "text": [
      "[25, 26, 38, 38, 38, 47, 49, 55, 55, 60, 74, 88]\n"
     ]
    }
   ],
   "source": [
    "marks.sort()\n",
    "print(marks)"
   ]
  },
  {
   "cell_type": "code",
   "execution_count": 71,
   "id": "c55d1e74",
   "metadata": {},
   "outputs": [
    {
     "name": "stdout",
     "output_type": "stream",
     "text": [
      "[88, 74, 60, 55, 55, 49, 47, 38, 38, 38, 26, 25]\n"
     ]
    }
   ],
   "source": [
    "marks.sort(reverse=True)\n",
    "print(marks)"
   ]
  },
  {
   "cell_type": "markdown",
   "id": "302b04c0",
   "metadata": {},
   "source": [
    "# Tuples"
   ]
  },
  {
   "cell_type": "markdown",
   "id": "f02b0cb6",
   "metadata": {},
   "source": [
    "# Constructing Tuples"
   ]
  },
  {
   "cell_type": "code",
   "execution_count": 72,
   "id": "6d4b7f90",
   "metadata": {},
   "outputs": [
    {
     "data": {
      "text/plain": [
       "('Bengaluru', 'Noida', 'Chennai', 'Delhi')"
      ]
     },
     "execution_count": 72,
     "metadata": {},
     "output_type": "execute_result"
    }
   ],
   "source": [
    "work_location=('Bengaluru','Noida','Chennai','Delhi')\n",
    "work_location"
   ]
  },
  {
   "cell_type": "code",
   "execution_count": 73,
   "id": "6d7f17ff",
   "metadata": {},
   "outputs": [
    {
     "data": {
      "text/plain": [
       "tuple"
      ]
     },
     "execution_count": 73,
     "metadata": {},
     "output_type": "execute_result"
    }
   ],
   "source": [
    "type(work_location)"
   ]
  },
  {
   "cell_type": "code",
   "execution_count": 74,
   "id": "95121405",
   "metadata": {},
   "outputs": [
    {
     "data": {
      "text/plain": [
       "(20000, 35000, 48000)"
      ]
     },
     "execution_count": 74,
     "metadata": {},
     "output_type": "execute_result"
    }
   ],
   "source": [
    "emp_salary=(20000,35000,48000)\n",
    "emp_salary"
   ]
  },
  {
   "cell_type": "markdown",
   "id": "2b10c733",
   "metadata": {},
   "source": [
    "# Let's try to add new work location"
   ]
  },
  {
   "cell_type": "code",
   "execution_count": 75,
   "id": "60f6723f",
   "metadata": {},
   "outputs": [
    {
     "ename": "AttributeError",
     "evalue": "'tuple' object has no attribute 'append'",
     "output_type": "error",
     "traceback": [
      "\u001b[1;31m---------------------------------------------------------------------------\u001b[0m",
      "\u001b[1;31mAttributeError\u001b[0m                            Traceback (most recent call last)",
      "Input \u001b[1;32mIn [75]\u001b[0m, in \u001b[0;36m<cell line: 1>\u001b[1;34m()\u001b[0m\n\u001b[1;32m----> 1\u001b[0m \u001b[43mwork_location\u001b[49m\u001b[38;5;241;43m.\u001b[39;49m\u001b[43mappend\u001b[49m(\u001b[38;5;124m'\u001b[39m\u001b[38;5;124mHyderabad\u001b[39m\u001b[38;5;124m'\u001b[39m)\n",
      "\u001b[1;31mAttributeError\u001b[0m: 'tuple' object has no attribute 'append'"
     ]
    }
   ],
   "source": [
    "work_location.append('Hyderabad')"
   ]
  },
  {
   "cell_type": "code",
   "execution_count": 76,
   "id": "020ac8ee",
   "metadata": {},
   "outputs": [
    {
     "ename": "TypeError",
     "evalue": "'list' object is not callable",
     "output_type": "error",
     "traceback": [
      "\u001b[1;31m---------------------------------------------------------------------------\u001b[0m",
      "\u001b[1;31mTypeError\u001b[0m                                 Traceback (most recent call last)",
      "Input \u001b[1;32mIn [76]\u001b[0m, in \u001b[0;36m<cell line: 1>\u001b[1;34m()\u001b[0m\n\u001b[1;32m----> 1\u001b[0m work_location\u001b[38;5;241m=\u001b[39m\u001b[38;5;28;43mlist\u001b[39;49m\u001b[43m(\u001b[49m\u001b[43mwork_location\u001b[49m\u001b[43m)\u001b[49m\n\u001b[0;32m      2\u001b[0m \u001b[38;5;28mprint\u001b[39m(work_location)\n",
      "\u001b[1;31mTypeError\u001b[0m: 'list' object is not callable"
     ]
    }
   ],
   "source": [
    "work_location=list(work_location)\n",
    "print(work_location)"
   ]
  },
  {
   "cell_type": "code",
   "execution_count": null,
   "id": "bc54f198",
   "metadata": {},
   "outputs": [],
   "source": [
    "type(work_location)"
   ]
  },
  {
   "cell_type": "code",
   "execution_count": 1,
   "id": "87c0faa6",
   "metadata": {},
   "outputs": [
    {
     "data": {
      "text/plain": [
       "('Bengaluru', 'Noida', 'Chennai', 'Delhi')"
      ]
     },
     "execution_count": 1,
     "metadata": {},
     "output_type": "execute_result"
    }
   ],
   "source": [
    "work_location=('Bengaluru','Noida','Chennai','Delhi')\n",
    "work_location"
   ]
  },
  {
   "cell_type": "code",
   "execution_count": 2,
   "id": "107fec3c",
   "metadata": {},
   "outputs": [
    {
     "data": {
      "text/plain": [
       "['Bengaluru', 'Noida', 'Chennai', 'Delhi']"
      ]
     },
     "execution_count": 2,
     "metadata": {},
     "output_type": "execute_result"
    }
   ],
   "source": [
    "work_location=list(work_location)\n",
    "work_location"
   ]
  },
  {
   "cell_type": "code",
   "execution_count": 2,
   "id": "d4de358c",
   "metadata": {},
   "outputs": [
    {
     "ename": "NameError",
     "evalue": "name 'work_location' is not defined",
     "output_type": "error",
     "traceback": [
      "\u001b[1;31m---------------------------------------------------------------------------\u001b[0m",
      "\u001b[1;31mNameError\u001b[0m                                 Traceback (most recent call last)",
      "Input \u001b[1;32mIn [2]\u001b[0m, in \u001b[0;36m<cell line: 1>\u001b[1;34m()\u001b[0m\n\u001b[1;32m----> 1\u001b[0m work_location\u001b[38;5;241m=\u001b[39m\u001b[38;5;28mlist\u001b[39m(\u001b[43mwork_location\u001b[49m)\n\u001b[0;32m      2\u001b[0m work_location\n",
      "\u001b[1;31mNameError\u001b[0m: name 'work_location' is not defined"
     ]
    }
   ],
   "source": [
    "work_location=list(work_location)\n",
    "work_location"
   ]
  },
  {
   "cell_type": "code",
   "execution_count": 3,
   "id": "5ff7a699",
   "metadata": {},
   "outputs": [
    {
     "data": {
      "text/plain": [
       "list"
      ]
     },
     "execution_count": 3,
     "metadata": {},
     "output_type": "execute_result"
    }
   ],
   "source": [
    "type(work_location)"
   ]
  },
  {
   "cell_type": "code",
   "execution_count": 4,
   "id": "da3065f3",
   "metadata": {},
   "outputs": [
    {
     "data": {
      "text/plain": [
       "['Bengaluru', 'Noida', 'Chennai', 'Delhi', 'Hyderabad']"
      ]
     },
     "execution_count": 4,
     "metadata": {},
     "output_type": "execute_result"
    }
   ],
   "source": [
    "work_location.append('Hyderabad')\n",
    "work_location"
   ]
  },
  {
   "cell_type": "code",
   "execution_count": 5,
   "id": "7545656a",
   "metadata": {},
   "outputs": [
    {
     "data": {
      "text/plain": [
       "['Bengaluru', 'Kolkata', 'Chennai', 'Delhi', 'Hyderabad']"
      ]
     },
     "execution_count": 5,
     "metadata": {},
     "output_type": "execute_result"
    }
   ],
   "source": [
    "work_location[1]='Kolkata'\n",
    "work_location"
   ]
  },
  {
   "cell_type": "code",
   "execution_count": 6,
   "id": "2b173218",
   "metadata": {},
   "outputs": [
    {
     "data": {
      "text/plain": [
       "('Bengaluru', 'Kolkata', 'Chennai', 'Delhi', 'Hyderabad')"
      ]
     },
     "execution_count": 6,
     "metadata": {},
     "output_type": "execute_result"
    }
   ],
   "source": [
    "work_location=tuple(work_location)\n",
    "work_location"
   ]
  },
  {
   "cell_type": "code",
   "execution_count": 7,
   "id": "5a553061",
   "metadata": {},
   "outputs": [
    {
     "data": {
      "text/plain": [
       "5"
      ]
     },
     "execution_count": 7,
     "metadata": {},
     "output_type": "execute_result"
    }
   ],
   "source": [
    "len(work_location)"
   ]
  },
  {
   "cell_type": "code",
   "execution_count": 8,
   "id": "0e9b4623",
   "metadata": {},
   "outputs": [
    {
     "data": {
      "text/plain": [
       "('Bengaluru', 'Kolkata', 'Chennai', 'Delhi', 'Hyderabad')"
      ]
     },
     "execution_count": 8,
     "metadata": {},
     "output_type": "execute_result"
    }
   ],
   "source": [
    "work_location"
   ]
  },
  {
   "cell_type": "code",
   "execution_count": 9,
   "id": "49db5f62",
   "metadata": {},
   "outputs": [
    {
     "data": {
      "text/plain": [
       "'Kolkata'"
      ]
     },
     "execution_count": 9,
     "metadata": {},
     "output_type": "execute_result"
    }
   ],
   "source": [
    "work_location[1]"
   ]
  },
  {
   "cell_type": "code",
   "execution_count": 10,
   "id": "98b21c7a",
   "metadata": {},
   "outputs": [
    {
     "data": {
      "text/plain": [
       "'Delhi'"
      ]
     },
     "execution_count": 10,
     "metadata": {},
     "output_type": "execute_result"
    }
   ],
   "source": [
    "work_location[-2]"
   ]
  },
  {
   "cell_type": "markdown",
   "id": "47ce9e42",
   "metadata": {},
   "source": [
    "# Basic Tuples Methods"
   ]
  },
  {
   "cell_type": "code",
   "execution_count": 11,
   "id": "6686fb99",
   "metadata": {},
   "outputs": [
    {
     "data": {
      "text/plain": [
       "(25, 50, 88, 90, 50)"
      ]
     },
     "execution_count": 11,
     "metadata": {},
     "output_type": "execute_result"
    }
   ],
   "source": [
    "numbers=(25,50,88,90,50)\n",
    "numbers\n"
   ]
  },
  {
   "cell_type": "code",
   "execution_count": 12,
   "id": "2dcfc4a2",
   "metadata": {},
   "outputs": [
    {
     "data": {
      "text/plain": [
       "1"
      ]
     },
     "execution_count": 12,
     "metadata": {},
     "output_type": "execute_result"
    }
   ],
   "source": [
    "numbers.index(50)"
   ]
  },
  {
   "cell_type": "code",
   "execution_count": 13,
   "id": "3f2a6761",
   "metadata": {},
   "outputs": [
    {
     "data": {
      "text/plain": [
       "2"
      ]
     },
     "execution_count": 13,
     "metadata": {},
     "output_type": "execute_result"
    }
   ],
   "source": [
    "numbers.index(88)"
   ]
  },
  {
   "cell_type": "code",
   "execution_count": 14,
   "id": "8cf3c5ad",
   "metadata": {},
   "outputs": [
    {
     "data": {
      "text/plain": [
       "2"
      ]
     },
     "execution_count": 14,
     "metadata": {},
     "output_type": "execute_result"
    }
   ],
   "source": [
    "numbers.count(50)"
   ]
  },
  {
   "cell_type": "markdown",
   "id": "5614b683",
   "metadata": {},
   "source": [
    "# Sets"
   ]
  },
  {
   "cell_type": "code",
   "execution_count": 15,
   "id": "943b160f",
   "metadata": {},
   "outputs": [],
   "source": [
    "roll_numbers=set()"
   ]
  },
  {
   "cell_type": "code",
   "execution_count": 16,
   "id": "f904e8f6",
   "metadata": {},
   "outputs": [
    {
     "data": {
      "text/plain": [
       "set"
      ]
     },
     "execution_count": 16,
     "metadata": {},
     "output_type": "execute_result"
    }
   ],
   "source": [
    "type(roll_numbers)"
   ]
  },
  {
   "cell_type": "code",
   "execution_count": 17,
   "id": "be1d238b",
   "metadata": {},
   "outputs": [
    {
     "data": {
      "text/plain": [
       "{1}"
      ]
     },
     "execution_count": 17,
     "metadata": {},
     "output_type": "execute_result"
    }
   ],
   "source": [
    "roll_numbers.add(1)\n",
    "roll_numbers"
   ]
  },
  {
   "cell_type": "code",
   "execution_count": 18,
   "id": "0aec8d04",
   "metadata": {},
   "outputs": [
    {
     "data": {
      "text/plain": [
       "{1, 2}"
      ]
     },
     "execution_count": 18,
     "metadata": {},
     "output_type": "execute_result"
    }
   ],
   "source": [
    "roll_numbers.add(2)\n",
    "roll_numbers"
   ]
  },
  {
   "cell_type": "code",
   "execution_count": 19,
   "id": "914be762",
   "metadata": {},
   "outputs": [
    {
     "data": {
      "text/plain": [
       "{1, 2}"
      ]
     },
     "execution_count": 19,
     "metadata": {},
     "output_type": "execute_result"
    }
   ],
   "source": [
    "roll_numbers.add(1)\n",
    "roll_numbers"
   ]
  },
  {
   "cell_type": "markdown",
   "id": "2f319be1",
   "metadata": {},
   "source": [
    "# Creating a List with repeats"
   ]
  },
  {
   "cell_type": "code",
   "execution_count": 20,
   "id": "c904c8e4",
   "metadata": {},
   "outputs": [],
   "source": [
    "remove_dups=[8,5,6,9,1,1,2,2,3,4,5,6,1,1,7,7]"
   ]
  },
  {
   "cell_type": "code",
   "execution_count": 21,
   "id": "55d3e8e0",
   "metadata": {},
   "outputs": [
    {
     "data": {
      "text/plain": [
       "{1, 2, 3, 4, 5, 6, 7, 8, 9}"
      ]
     },
     "execution_count": 21,
     "metadata": {},
     "output_type": "execute_result"
    }
   ],
   "source": [
    "dups_removed=set(remove_dups)\n",
    "dups_removed"
   ]
  },
  {
   "cell_type": "code",
   "execution_count": 22,
   "id": "0900a9b3",
   "metadata": {},
   "outputs": [
    {
     "data": {
      "text/plain": [
       "[1, 2, 3, 4, 5, 6, 7, 8, 9]"
      ]
     },
     "execution_count": 22,
     "metadata": {},
     "output_type": "execute_result"
    }
   ],
   "source": [
    "remove_dups=list(dups_removed)\n",
    "remove_dups"
   ]
  },
  {
   "cell_type": "markdown",
   "id": "94ed4d7f",
   "metadata": {},
   "source": [
    "# Dictionary"
   ]
  },
  {
   "cell_type": "markdown",
   "id": "d2e52959",
   "metadata": {},
   "source": [
    "## Constructing a Dictionary"
   ]
  },
  {
   "cell_type": "code",
   "execution_count": 23,
   "id": "1e9c3be5",
   "metadata": {},
   "outputs": [],
   "source": [
    "my_dict={'Key 1':'Value 1','Key 2':'Value 2'}"
   ]
  },
  {
   "cell_type": "code",
   "execution_count": 24,
   "id": "9efd997f",
   "metadata": {},
   "outputs": [
    {
     "data": {
      "text/plain": [
       "{'Key 1': 'Value 1', 'Key 2': 'Value 2'}"
      ]
     },
     "execution_count": 24,
     "metadata": {},
     "output_type": "execute_result"
    }
   ],
   "source": [
    "my_dict"
   ]
  },
  {
   "cell_type": "code",
   "execution_count": 25,
   "id": "22f8316e",
   "metadata": {},
   "outputs": [
    {
     "data": {
      "text/plain": [
       "'Value 2'"
      ]
     },
     "execution_count": 25,
     "metadata": {},
     "output_type": "execute_result"
    }
   ],
   "source": [
    "my_dict['Key 2']"
   ]
  },
  {
   "cell_type": "code",
   "execution_count": 26,
   "id": "8cb2a121",
   "metadata": {},
   "outputs": [],
   "source": [
    "my_dict={'Roll_number':123,'Marks':[12,23,33],'Subject':['Computer','Science','Maths']}"
   ]
  },
  {
   "cell_type": "code",
   "execution_count": 27,
   "id": "23b3fa44",
   "metadata": {},
   "outputs": [
    {
     "data": {
      "text/plain": [
       "['Computer', 'Science', 'Maths']"
      ]
     },
     "execution_count": 27,
     "metadata": {},
     "output_type": "execute_result"
    }
   ],
   "source": [
    "my_dict['Subject']"
   ]
  },
  {
   "cell_type": "code",
   "execution_count": 28,
   "id": "557f4fa5",
   "metadata": {},
   "outputs": [
    {
     "data": {
      "text/plain": [
       "'Science'"
      ]
     },
     "execution_count": 28,
     "metadata": {},
     "output_type": "execute_result"
    }
   ],
   "source": [
    "my_dict['Subject'][1]"
   ]
  },
  {
   "cell_type": "code",
   "execution_count": 29,
   "id": "203640f7",
   "metadata": {},
   "outputs": [
    {
     "data": {
      "text/plain": [
       "'COMPUTER'"
      ]
     },
     "execution_count": 29,
     "metadata": {},
     "output_type": "execute_result"
    }
   ],
   "source": [
    "my_dict['Subject'][0].upper()"
   ]
  },
  {
   "cell_type": "code",
   "execution_count": 30,
   "id": "5fbe120e",
   "metadata": {},
   "outputs": [
    {
     "data": {
      "text/plain": [
       "'maths'"
      ]
     },
     "execution_count": 30,
     "metadata": {},
     "output_type": "execute_result"
    }
   ],
   "source": [
    "my_dict['Subject'][2].lower()"
   ]
  },
  {
   "cell_type": "code",
   "execution_count": 31,
   "id": "e40f8586",
   "metadata": {},
   "outputs": [
    {
     "data": {
      "text/plain": [
       "[12, 23, 33]"
      ]
     },
     "execution_count": 31,
     "metadata": {},
     "output_type": "execute_result"
    }
   ],
   "source": [
    "my_dict['Marks']"
   ]
  },
  {
   "cell_type": "code",
   "execution_count": 32,
   "id": "47a7e1bc",
   "metadata": {},
   "outputs": [],
   "source": [
    "my_dict['Marks'][0]=my_dict['Marks'][0]+30"
   ]
  },
  {
   "cell_type": "code",
   "execution_count": 33,
   "id": "35427f1a",
   "metadata": {},
   "outputs": [
    {
     "data": {
      "text/plain": [
       "[42, 23, 33]"
      ]
     },
     "execution_count": 33,
     "metadata": {},
     "output_type": "execute_result"
    }
   ],
   "source": [
    "my_dict['Marks']"
   ]
  },
  {
   "cell_type": "code",
   "execution_count": 34,
   "id": "987d1bef",
   "metadata": {},
   "outputs": [],
   "source": [
    "my_dict['Marks'][2]+=20"
   ]
  },
  {
   "cell_type": "code",
   "execution_count": 35,
   "id": "2852ef02",
   "metadata": {},
   "outputs": [
    {
     "data": {
      "text/plain": [
       "[42, 23, 53]"
      ]
     },
     "execution_count": 35,
     "metadata": {},
     "output_type": "execute_result"
    }
   ],
   "source": [
    "my_dict['Marks']"
   ]
  },
  {
   "cell_type": "code",
   "execution_count": 36,
   "id": "b3c90efc",
   "metadata": {},
   "outputs": [],
   "source": [
    "my_dict['Marks'][2]-=3"
   ]
  },
  {
   "cell_type": "code",
   "execution_count": 37,
   "id": "2ba9df6c",
   "metadata": {},
   "outputs": [
    {
     "data": {
      "text/plain": [
       "[42, 23, 50]"
      ]
     },
     "execution_count": 37,
     "metadata": {},
     "output_type": "execute_result"
    }
   ],
   "source": [
    "my_dict['Marks']"
   ]
  },
  {
   "cell_type": "code",
   "execution_count": 38,
   "id": "9aef1dfd",
   "metadata": {},
   "outputs": [],
   "source": [
    "my_dict['Year']='3rd'"
   ]
  },
  {
   "cell_type": "code",
   "execution_count": 39,
   "id": "c07b7266",
   "metadata": {},
   "outputs": [
    {
     "data": {
      "text/plain": [
       "{'Roll_number': 123,\n",
       " 'Marks': [42, 23, 50],\n",
       " 'Subject': ['Computer', 'Science', 'Maths'],\n",
       " 'Year': '3rd'}"
      ]
     },
     "execution_count": 39,
     "metadata": {},
     "output_type": "execute_result"
    }
   ],
   "source": [
    "my_dict"
   ]
  },
  {
   "cell_type": "code",
   "execution_count": 40,
   "id": "f4686fa2",
   "metadata": {
    "scrolled": true
   },
   "outputs": [],
   "source": [
    "my_dict.update({'Roll_number':100})"
   ]
  },
  {
   "cell_type": "code",
   "execution_count": 41,
   "id": "5e0b4a2c",
   "metadata": {},
   "outputs": [
    {
     "data": {
      "text/plain": [
       "{'Roll_number': 100,\n",
       " 'Marks': [42, 23, 50],\n",
       " 'Subject': ['Computer', 'Science', 'Maths'],\n",
       " 'Year': '3rd'}"
      ]
     },
     "execution_count": 41,
     "metadata": {},
     "output_type": "execute_result"
    }
   ],
   "source": [
    "my_dict"
   ]
  },
  {
   "cell_type": "code",
   "execution_count": 45,
   "id": "60c579c3",
   "metadata": {},
   "outputs": [
    {
     "data": {
      "text/plain": [
       "dict_keys(['Roll_number', 'Marks', 'Subject', 'Year'])"
      ]
     },
     "execution_count": 45,
     "metadata": {},
     "output_type": "execute_result"
    }
   ],
   "source": [
    "my_dict.keys()"
   ]
  },
  {
   "cell_type": "code",
   "execution_count": 46,
   "id": "7ee8fe7a",
   "metadata": {},
   "outputs": [
    {
     "data": {
      "text/plain": [
       "dict_values([100, [42, 23, 50], ['Computer', 'Science', 'Maths'], '3rd'])"
      ]
     },
     "execution_count": 46,
     "metadata": {},
     "output_type": "execute_result"
    }
   ],
   "source": [
    "my_dict.values()"
   ]
  },
  {
   "cell_type": "code",
   "execution_count": 47,
   "id": "810c336d",
   "metadata": {},
   "outputs": [
    {
     "data": {
      "text/plain": [
       "dict_items([('Roll_number', 100), ('Marks', [42, 23, 50]), ('Subject', ['Computer', 'Science', 'Maths']), ('Year', '3rd')])"
      ]
     },
     "execution_count": 47,
     "metadata": {},
     "output_type": "execute_result"
    }
   ],
   "source": [
    "my_dict.items()"
   ]
  },
  {
   "cell_type": "code",
   "execution_count": null,
   "id": "8f6e0ecb",
   "metadata": {},
   "outputs": [],
   "source": []
  }
 ],
 "metadata": {
  "kernelspec": {
   "display_name": "Python 3 (ipykernel)",
   "language": "python",
   "name": "python3"
  },
  "language_info": {
   "codemirror_mode": {
    "name": "ipython",
    "version": 3
   },
   "file_extension": ".py",
   "mimetype": "text/x-python",
   "name": "python",
   "nbconvert_exporter": "python",
   "pygments_lexer": "ipython3",
   "version": "3.9.12"
  }
 },
 "nbformat": 4,
 "nbformat_minor": 5
}
